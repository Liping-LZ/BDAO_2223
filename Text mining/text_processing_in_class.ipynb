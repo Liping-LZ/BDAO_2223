{
  "nbformat": 4,
  "nbformat_minor": 0,
  "metadata": {
    "colab": {
      "provenance": [],
      "authorship_tag": "ABX9TyPFHzDRXhnd5v3h72rUbAJj",
      "include_colab_link": true
    },
    "kernelspec": {
      "name": "python3",
      "display_name": "Python 3"
    },
    "language_info": {
      "name": "python"
    }
  },
  "cells": [
    {
      "cell_type": "markdown",
      "metadata": {
        "id": "view-in-github",
        "colab_type": "text"
      },
      "source": [
        "<a href=\"https://colab.research.google.com/github/Liping-LZ/BDAO_2223/blob/main/Text%20mining/text_processing_in_class.ipynb\" target=\"_parent\"><img src=\"https://colab.research.google.com/assets/colab-badge.svg\" alt=\"Open In Colab\"/></a>"
      ]
    },
    {
      "cell_type": "code",
      "execution_count": 64,
      "metadata": {
        "id": "2OVlJcZgwWEe"
      },
      "outputs": [],
      "source": [
        "text = \"BDAO github repository https://github.com/Liping-LZ/BDAO_2223 is 🔥🔥 Coding is SUPER fun!!! Hope I'll do it again. By the way Mark is the best 1234. my email: liping@gmail.com\""
      ]
    },
    {
      "cell_type": "code",
      "source": [
        "# lower casing\n",
        "new = text.lower()\n",
        "new"
      ],
      "metadata": {
        "colab": {
          "base_uri": "https://localhost:8080/",
          "height": 52
        },
        "id": "Eb9gXhEUyMqQ",
        "outputId": "bb7f46a7-ef16-415f-f122-d9970a2941b3"
      },
      "execution_count": 65,
      "outputs": [
        {
          "output_type": "execute_result",
          "data": {
            "text/plain": [
              "\"bdao github repository https://github.com/liping-lz/bdao_2223 is 🔥🔥 coding is super fun!!! hope i'll do it again. by the way mark is the best 1234. my email: liping@gmail.com\""
            ],
            "application/vnd.google.colaboratory.intrinsic+json": {
              "type": "string"
            }
          },
          "metadata": {},
          "execution_count": 65
        }
      ]
    },
    {
      "cell_type": "code",
      "source": [
        "# remove contraction\n",
        "!pip install contractions"
      ],
      "metadata": {
        "colab": {
          "base_uri": "https://localhost:8080/"
        },
        "id": "F5lmOsSGyQM-",
        "outputId": "469fcbc9-25a9-4575-e5fb-69baf95a18dc"
      },
      "execution_count": 62,
      "outputs": [
        {
          "output_type": "stream",
          "name": "stdout",
          "text": [
            "Looking in indexes: https://pypi.org/simple, https://us-python.pkg.dev/colab-wheels/public/simple/\n",
            "Requirement already satisfied: contractions in /usr/local/lib/python3.8/dist-packages (0.1.73)\n",
            "Requirement already satisfied: textsearch>=0.0.21 in /usr/local/lib/python3.8/dist-packages (from contractions) (0.0.24)\n",
            "Requirement already satisfied: pyahocorasick in /usr/local/lib/python3.8/dist-packages (from textsearch>=0.0.21->contractions) (2.0.0)\n",
            "Requirement already satisfied: anyascii in /usr/local/lib/python3.8/dist-packages (from textsearch>=0.0.21->contractions) (0.3.1)\n"
          ]
        }
      ]
    },
    {
      "cell_type": "code",
      "source": [
        "import contractions\n",
        "new = contractions.fix(new)\n",
        "new"
      ],
      "metadata": {
        "colab": {
          "base_uri": "https://localhost:8080/",
          "height": 52
        },
        "id": "JrqCXvncylCO",
        "outputId": "40108025-4a41-4ce1-abaf-443f5d3e7370"
      },
      "execution_count": 66,
      "outputs": [
        {
          "output_type": "execute_result",
          "data": {
            "text/plain": [
              "'bdao github repository https://github.com/liping-lz/bdao_2223 is 🔥🔥 coding is super fun!!! hope i will do it again. by the way mark is the best 1234. my email: liping@gmail.com'"
            ],
            "application/vnd.google.colaboratory.intrinsic+json": {
              "type": "string"
            }
          },
          "metadata": {},
          "execution_count": 66
        }
      ]
    },
    {
      "cell_type": "code",
      "source": [
        "# Remove emoji & emoticons\n",
        "# First, build a list of commonly used emojis\n",
        "# emoji/emoticons dictionary here: https://github.com/NeelShah18/emot/blob/master/emot/emo_unicode.py\n",
        "emoj = re.compile(\"[\"\n",
        "        u\"\\U0001F600-\\U0001F64F\"  # emoticons\n",
        "        u\"\\U0001F300-\\U0001F5FF\"  # symbols & pictographs\n",
        "        u\"\\U0001F680-\\U0001F6FF\"  # transport & map symbols\n",
        "        u\"\\U0001F1E0-\\U0001F1FF\"  # flags (iOS)\n",
        "        u\"\\U00002500-\\U00002BEF\"  # chinese char\n",
        "        u\"\\U00002702-\\U000027B0\"\n",
        "        u\"\\U00002702-\\U000027B0\"\n",
        "        u\"\\U000024C2-\\U0001F251\"\n",
        "        u\"\\U0001f926-\\U0001f937\"\n",
        "        u\"\\U00010000-\\U0010ffff\"\n",
        "        u\"\\u2640-\\u2642\" \n",
        "        u\"\\u2600-\\u2B55\"\n",
        "        u\"\\u200d\"\n",
        "        u\"\\u23cf\"\n",
        "        u\"\\u23e9\"\n",
        "        u\"\\u231a\"\n",
        "        u\"\\ufe0f\"  # dingbats\n",
        "        u\"\\u3030\"\n",
        "                      \"]+\", re.UNICODE)\n",
        "\n",
        "new = re.sub(emoj, '', new)\n",
        "new"
      ],
      "metadata": {
        "colab": {
          "base_uri": "https://localhost:8080/",
          "height": 52
        },
        "id": "oSyBCTykztpX",
        "outputId": "ddae184f-8a64-4979-9d06-e49d84614021"
      },
      "execution_count": 67,
      "outputs": [
        {
          "output_type": "execute_result",
          "data": {
            "text/plain": [
              "'bdao github repository https://github.com/liping-lz/bdao_2223 is  coding is super fun!!! hope i will do it again. by the way mark is the best 1234. my email: liping@gmail.com'"
            ],
            "application/vnd.google.colaboratory.intrinsic+json": {
              "type": "string"
            }
          },
          "metadata": {},
          "execution_count": 67
        }
      ]
    },
    {
      "cell_type": "code",
      "source": [
        "# remove links\n",
        "new = re.sub('http://\\S+|https://\\S+', '', new)\n",
        "new"
      ],
      "metadata": {
        "colab": {
          "base_uri": "https://localhost:8080/",
          "height": 35
        },
        "id": "jfcQKzLe5s0U",
        "outputId": "4d6dc779-7780-4f30-b36e-f4f1277ac729"
      },
      "execution_count": 68,
      "outputs": [
        {
          "output_type": "execute_result",
          "data": {
            "text/plain": [
              "'bdao github repository  is  coding is super fun!!! hope i will do it again. by the way mark is the best 1234. my email: liping@gmail.com'"
            ],
            "application/vnd.google.colaboratory.intrinsic+json": {
              "type": "string"
            }
          },
          "metadata": {},
          "execution_count": 68
        }
      ]
    },
    {
      "cell_type": "code",
      "source": [
        "# remove email\n",
        "new = re.sub('\\S*@\\S*\\s?', '', new)\n",
        "new"
      ],
      "metadata": {
        "colab": {
          "base_uri": "https://localhost:8080/",
          "height": 35
        },
        "id": "L2ormfui8AtI",
        "outputId": "a22b22bf-5ffe-46e1-ba9a-5846b23fc296"
      },
      "execution_count": 69,
      "outputs": [
        {
          "output_type": "execute_result",
          "data": {
            "text/plain": [
              "'bdao github repository  is  coding is super fun!!! hope i will do it again. by the way mark is the best 1234. my email: '"
            ],
            "application/vnd.google.colaboratory.intrinsic+json": {
              "type": "string"
            }
          },
          "metadata": {},
          "execution_count": 69
        }
      ]
    },
    {
      "cell_type": "code",
      "source": [
        "# remove punctuation\n",
        "import string\n",
        "import re\n",
        "new = re.sub('[%s]' % re.escape(string.punctuation), ' ', new)\n",
        "new"
      ],
      "metadata": {
        "colab": {
          "base_uri": "https://localhost:8080/",
          "height": 35
        },
        "id": "oQnpPYWCyuK6",
        "outputId": "03825a50-a3a5-4903-b6f4-71f1d64b9e62"
      },
      "execution_count": 70,
      "outputs": [
        {
          "output_type": "execute_result",
          "data": {
            "text/plain": [
              "'bdao github repository  is  coding is super fun    hope i will do it again  by the way mark is the best 1234  my email  '"
            ],
            "application/vnd.google.colaboratory.intrinsic+json": {
              "type": "string"
            }
          },
          "metadata": {},
          "execution_count": 70
        }
      ]
    },
    {
      "cell_type": "code",
      "source": [
        "# remove numbers\n",
        "new = re.sub(r\"\\d+\", \"\", new)\n",
        "new"
      ],
      "metadata": {
        "colab": {
          "base_uri": "https://localhost:8080/",
          "height": 35
        },
        "id": "zJZHVcZJ9Oyk",
        "outputId": "4c0adad7-4a58-46ff-8a85-d4587d0bc938"
      },
      "execution_count": 71,
      "outputs": [
        {
          "output_type": "execute_result",
          "data": {
            "text/plain": [
              "'bdao github repository  is  coding is super fun    hope i will do it again  by the way mark is the best   my email  '"
            ],
            "application/vnd.google.colaboratory.intrinsic+json": {
              "type": "string"
            }
          },
          "metadata": {},
          "execution_count": 71
        }
      ]
    },
    {
      "cell_type": "code",
      "source": [
        "# remove extra space\n",
        "new = re.sub('\\s{2,}', ' ', new)\n",
        "new"
      ],
      "metadata": {
        "colab": {
          "base_uri": "https://localhost:8080/",
          "height": 35
        },
        "id": "CVXQhT2T1-gW",
        "outputId": "defdbfc5-9ce5-4ebf-c3ee-bc4fb924b78c"
      },
      "execution_count": 72,
      "outputs": [
        {
          "output_type": "execute_result",
          "data": {
            "text/plain": [
              "'bdao github repository is coding is super fun hope i will do it again by the way mark is the best my email '"
            ],
            "application/vnd.google.colaboratory.intrinsic+json": {
              "type": "string"
            }
          },
          "metadata": {},
          "execution_count": 72
        }
      ]
    },
    {
      "cell_type": "code",
      "source": [
        "import nltk\n",
        "nltk.download('punkt')"
      ],
      "metadata": {
        "colab": {
          "base_uri": "https://localhost:8080/"
        },
        "id": "cRjmXSZk3L7W",
        "outputId": "ee78124c-6aaf-4dd7-d834-4778fe9b5e8d"
      },
      "execution_count": 73,
      "outputs": [
        {
          "output_type": "stream",
          "name": "stderr",
          "text": [
            "[nltk_data] Downloading package punkt to /root/nltk_data...\n",
            "[nltk_data]   Unzipping tokenizers/punkt.zip.\n"
          ]
        },
        {
          "output_type": "execute_result",
          "data": {
            "text/plain": [
              "True"
            ]
          },
          "metadata": {},
          "execution_count": 73
        }
      ]
    },
    {
      "cell_type": "code",
      "source": [
        "# tokenise the words\n",
        "from nltk.tokenize import word_tokenize\n",
        "word_token = word_tokenize(new)\n",
        "\n",
        "word_token"
      ],
      "metadata": {
        "colab": {
          "base_uri": "https://localhost:8080/"
        },
        "id": "lRd5whf9_zo6",
        "outputId": "ed6cb240-66b0-4014-dffe-08eacfa1c381"
      },
      "execution_count": 78,
      "outputs": [
        {
          "output_type": "execute_result",
          "data": {
            "text/plain": [
              "['bdao',\n",
              " 'github',\n",
              " 'repository',\n",
              " 'is',\n",
              " 'coding',\n",
              " 'is',\n",
              " 'super',\n",
              " 'fun',\n",
              " 'hope',\n",
              " 'i',\n",
              " 'will',\n",
              " 'do',\n",
              " 'it',\n",
              " 'again',\n",
              " 'by',\n",
              " 'the',\n",
              " 'way',\n",
              " 'mark',\n",
              " 'is',\n",
              " 'the',\n",
              " 'best',\n",
              " 'my',\n",
              " 'email']"
            ]
          },
          "metadata": {},
          "execution_count": 78
        }
      ]
    },
    {
      "cell_type": "code",
      "source": [
        "# Start dealing with stopwords\n",
        "import nltk\n",
        "nltk.download('stopwords')"
      ],
      "metadata": {
        "colab": {
          "base_uri": "https://localhost:8080/"
        },
        "id": "5GbopT1pBepX",
        "outputId": "c9e33a4c-3ebd-448f-d7cc-a9ccf1b84e46"
      },
      "execution_count": 76,
      "outputs": [
        {
          "output_type": "stream",
          "name": "stderr",
          "text": [
            "[nltk_data] Downloading package stopwords to /root/nltk_data...\n",
            "[nltk_data]   Unzipping corpora/stopwords.zip.\n"
          ]
        },
        {
          "output_type": "execute_result",
          "data": {
            "text/plain": [
              "True"
            ]
          },
          "metadata": {},
          "execution_count": 76
        }
      ]
    },
    {
      "cell_type": "code",
      "source": [
        "from nltk.corpus import stopwords\n",
        "# use English stopwords\n",
        "stopwords = stopwords.words(\"english\")"
      ],
      "metadata": {
        "id": "7iQh6hesBi03"
      },
      "execution_count": 77,
      "outputs": []
    },
    {
      "cell_type": "code",
      "source": [
        "token_without_stopwords = [w for w in word_token if not w in stopwords]\n",
        "token_without_stopwords"
      ],
      "metadata": {
        "colab": {
          "base_uri": "https://localhost:8080/"
        },
        "id": "ph4qAznMB14w",
        "outputId": "118c08ef-1919-4a61-84e4-6060bca96798"
      },
      "execution_count": 79,
      "outputs": [
        {
          "output_type": "execute_result",
          "data": {
            "text/plain": [
              "['bdao',\n",
              " 'github',\n",
              " 'repository',\n",
              " 'coding',\n",
              " 'super',\n",
              " 'fun',\n",
              " 'hope',\n",
              " 'way',\n",
              " 'mark',\n",
              " 'best',\n",
              " 'email']"
            ]
          },
          "metadata": {},
          "execution_count": 79
        }
      ]
    },
    {
      "cell_type": "code",
      "source": [
        "# option 1: stem the tokens\n",
        "from nltk.stem import PorterStemmer \n",
        "ps = PorterStemmer() \n",
        "\n",
        "text = ['managers', 'managing', 'management', 'manage','manages','managed']\n",
        "stemmed = [ps.stem(w) for w in text]\n",
        "stemmed"
      ],
      "metadata": {
        "colab": {
          "base_uri": "https://localhost:8080/"
        },
        "id": "NDNUgyW7CuOi",
        "outputId": "6191b8d4-837b-42a2-8641-4c239744a16d"
      },
      "execution_count": 85,
      "outputs": [
        {
          "output_type": "execute_result",
          "data": {
            "text/plain": [
              "['manag', 'manag', 'manag', 'manag', 'manag', 'manag']"
            ]
          },
          "metadata": {},
          "execution_count": 85
        }
      ]
    },
    {
      "cell_type": "code",
      "source": [
        "# option 2: lemmatise the tokens\n",
        "nltk.download('wordnet')\n",
        "nltk.download('omw-1.4')\n",
        "\n",
        "from nltk.stem import WordNetLemmatizer\n",
        "lemmatizer = WordNetLemmatizer()\n",
        "\n",
        "n_lemmatised = [lemmatizer.lemmatize(w) for w in text]\n",
        "v_lemmatised = [lemmatizer.lemmatize(w,'v') for w in n_lemmatised]\n",
        "r_lemmatised = [lemmatizer.lemmatize(w,'r') for w in v_lemmatised]\n",
        "a_lemmatised = [lemmatizer.lemmatize(w,'a') for w in r_lemmatised]\n",
        "\n",
        "a_lemmatised"
      ],
      "metadata": {
        "colab": {
          "base_uri": "https://localhost:8080/"
        },
        "id": "ER3iVizvDG5J",
        "outputId": "1076e9ec-c256-47b6-bd08-4546354c4294"
      },
      "execution_count": 86,
      "outputs": [
        {
          "output_type": "stream",
          "name": "stderr",
          "text": [
            "[nltk_data] Downloading package wordnet to /root/nltk_data...\n",
            "[nltk_data]   Package wordnet is already up-to-date!\n",
            "[nltk_data] Downloading package omw-1.4 to /root/nltk_data...\n",
            "[nltk_data]   Package omw-1.4 is already up-to-date!\n"
          ]
        },
        {
          "output_type": "execute_result",
          "data": {
            "text/plain": [
              "['manager', 'manage', 'management', 'manage', 'manage', 'manage']"
            ]
          },
          "metadata": {},
          "execution_count": 86
        }
      ]
    },
    {
      "cell_type": "code",
      "source": [
        "stemmed_token = [ps.stem(w) for w in token_without_stopwords]\n",
        "stemmed_token"
      ],
      "metadata": {
        "colab": {
          "base_uri": "https://localhost:8080/"
        },
        "id": "zf2fUK5QImMr",
        "outputId": "8cbb8274-887c-4a63-cd74-c5d7e3c84e88"
      },
      "execution_count": 87,
      "outputs": [
        {
          "output_type": "execute_result",
          "data": {
            "text/plain": [
              "['bdao',\n",
              " 'github',\n",
              " 'repositori',\n",
              " 'code',\n",
              " 'super',\n",
              " 'fun',\n",
              " 'hope',\n",
              " 'way',\n",
              " 'mark',\n",
              " 'best',\n",
              " 'email']"
            ]
          },
          "metadata": {},
          "execution_count": 87
        }
      ]
    },
    {
      "cell_type": "code",
      "source": [
        "nltk.download('averaged_perceptron_tagger')\n",
        "from nltk import pos_tag, RegexpParser\n",
        "tags = pos_tag(stemmed_token)\n",
        "tags"
      ],
      "metadata": {
        "colab": {
          "base_uri": "https://localhost:8080/"
        },
        "id": "hmjhn3mkIzSx",
        "outputId": "41d572b0-49e6-42c6-e8a3-84981f5480c7"
      },
      "execution_count": 89,
      "outputs": [
        {
          "output_type": "stream",
          "name": "stderr",
          "text": [
            "[nltk_data] Downloading package averaged_perceptron_tagger to\n",
            "[nltk_data]     /root/nltk_data...\n",
            "[nltk_data]   Unzipping taggers/averaged_perceptron_tagger.zip.\n"
          ]
        },
        {
          "output_type": "execute_result",
          "data": {
            "text/plain": [
              "[('bdao', 'NN'),\n",
              " ('github', 'NN'),\n",
              " ('repositori', 'NN'),\n",
              " ('code', 'NN'),\n",
              " ('super', 'JJ'),\n",
              " ('fun', 'NN'),\n",
              " ('hope', 'VBP'),\n",
              " ('way', 'NN'),\n",
              " ('mark', 'NN'),\n",
              " ('best', 'JJS'),\n",
              " ('email', 'NN')]"
            ]
          },
          "metadata": {},
          "execution_count": 89
        }
      ]
    },
    {
      "cell_type": "code",
      "source": [
        "token_nouns = [word for word,pos in tags if pos.startswith('N')]\n",
        "token_nouns"
      ],
      "metadata": {
        "colab": {
          "base_uri": "https://localhost:8080/"
        },
        "id": "0-31tk9hKOiR",
        "outputId": "ad66627c-f34f-4daf-cd90-1667621d7230"
      },
      "execution_count": 90,
      "outputs": [
        {
          "output_type": "execute_result",
          "data": {
            "text/plain": [
              "['bdao', 'github', 'repositori', 'code', 'fun', 'way', 'mark', 'email']"
            ]
          },
          "metadata": {},
          "execution_count": 90
        }
      ]
    },
    {
      "cell_type": "code",
      "source": [
        "token_adjs = [word for word,pos in tags if pos.startswith('J')]\n",
        "token_adjs"
      ],
      "metadata": {
        "colab": {
          "base_uri": "https://localhost:8080/"
        },
        "id": "agDTd2gTKpJP",
        "outputId": "ec6f5e34-9955-4c5b-be58-79af34fb1975"
      },
      "execution_count": 91,
      "outputs": [
        {
          "output_type": "execute_result",
          "data": {
            "text/plain": [
              "['super', 'best']"
            ]
          },
          "metadata": {},
          "execution_count": 91
        }
      ]
    }
  ]
}